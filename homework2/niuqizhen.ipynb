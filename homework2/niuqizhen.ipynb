{
 "cells": [
  {
   "cell_type": "code",
   "execution_count": 1,
   "metadata": {},
   "outputs": [],
   "source": [
    "import requests"
   ]
  },
  {
   "cell_type": "code",
   "execution_count": 2,
   "metadata": {},
   "outputs": [],
   "source": [
    "import bs4"
   ]
  },
  {
   "cell_type": "code",
   "execution_count": 3,
   "metadata": {},
   "outputs": [],
   "source": [
    "import csv"
   ]
  },
  {
   "cell_type": "code",
   "execution_count": 5,
   "metadata": {},
   "outputs": [],
   "source": [
    "r = requests.get('https://tosdr.org/')"
   ]
  },
  {
   "cell_type": "code",
   "execution_count": 6,
   "metadata": {},
   "outputs": [
    {
     "data": {
      "text/plain": [
       "requests.models.Response"
      ]
     },
     "execution_count": 6,
     "metadata": {},
     "output_type": "execute_result"
    }
   ],
   "source": [
    "type(r)"
   ]
  },
  {
   "cell_type": "code",
   "execution_count": 7,
   "metadata": {},
   "outputs": [
    {
     "name": "stdout",
     "output_type": "stream",
     "text": [
      "Help on Response in module requests.models object:\n",
      "\n",
      "class Response(builtins.object)\n",
      " |  The :class:`Response <Response>` object, which contains a\n",
      " |  server's response to an HTTP request.\n",
      " |  \n",
      " |  Methods defined here:\n",
      " |  \n",
      " |  __bool__(self)\n",
      " |      Returns True if :attr:`status_code` is less than 400.\n",
      " |      \n",
      " |      This attribute checks if the status code of the response is between\n",
      " |      400 and 600 to see if there was a client error or a server error. If\n",
      " |      the status code, is between 200 and 400, this will return True. This\n",
      " |      is **not** a check to see if the response code is ``200 OK``.\n",
      " |  \n",
      " |  __enter__(self)\n",
      " |  \n",
      " |  __exit__(self, *args)\n",
      " |  \n",
      " |  __getstate__(self)\n",
      " |  \n",
      " |  __init__(self)\n",
      " |      Initialize self.  See help(type(self)) for accurate signature.\n",
      " |  \n",
      " |  __iter__(self)\n",
      " |      Allows you to use a response as an iterator.\n",
      " |  \n",
      " |  __nonzero__(self)\n",
      " |      Returns True if :attr:`status_code` is less than 400.\n",
      " |      \n",
      " |      This attribute checks if the status code of the response is between\n",
      " |      400 and 600 to see if there was a client error or a server error. If\n",
      " |      the status code, is between 200 and 400, this will return True. This\n",
      " |      is **not** a check to see if the response code is ``200 OK``.\n",
      " |  \n",
      " |  __repr__(self)\n",
      " |      Return repr(self).\n",
      " |  \n",
      " |  __setstate__(self, state)\n",
      " |  \n",
      " |  close(self)\n",
      " |      Releases the connection back to the pool. Once this method has been\n",
      " |      called the underlying ``raw`` object must not be accessed again.\n",
      " |      \n",
      " |      *Note: Should not normally need to be called explicitly.*\n",
      " |  \n",
      " |  iter_content(self, chunk_size=1, decode_unicode=False)\n",
      " |      Iterates over the response data.  When stream=True is set on the\n",
      " |      request, this avoids reading the content at once into memory for\n",
      " |      large responses.  The chunk size is the number of bytes it should\n",
      " |      read into memory.  This is not necessarily the length of each item\n",
      " |      returned as decoding can take place.\n",
      " |      \n",
      " |      chunk_size must be of type int or None. A value of None will\n",
      " |      function differently depending on the value of `stream`.\n",
      " |      stream=True will read data as it arrives in whatever size the\n",
      " |      chunks are received. If stream=False, data is returned as\n",
      " |      a single chunk.\n",
      " |      \n",
      " |      If decode_unicode is True, content will be decoded using the best\n",
      " |      available encoding based on the response.\n",
      " |  \n",
      " |  iter_lines(self, chunk_size=512, decode_unicode=None, delimiter=None)\n",
      " |      Iterates over the response data, one line at a time.  When\n",
      " |      stream=True is set on the request, this avoids reading the\n",
      " |      content at once into memory for large responses.\n",
      " |      \n",
      " |      .. note:: This method is not reentrant safe.\n",
      " |  \n",
      " |  json(self, **kwargs)\n",
      " |      Returns the json-encoded content of a response, if any.\n",
      " |      \n",
      " |      :param \\*\\*kwargs: Optional arguments that ``json.loads`` takes.\n",
      " |      :raises ValueError: If the response body does not contain valid json.\n",
      " |  \n",
      " |  raise_for_status(self)\n",
      " |      Raises stored :class:`HTTPError`, if one occurred.\n",
      " |  \n",
      " |  ----------------------------------------------------------------------\n",
      " |  Data descriptors defined here:\n",
      " |  \n",
      " |  __dict__\n",
      " |      dictionary for instance variables (if defined)\n",
      " |  \n",
      " |  __weakref__\n",
      " |      list of weak references to the object (if defined)\n",
      " |  \n",
      " |  apparent_encoding\n",
      " |      The apparent encoding, provided by the chardet library.\n",
      " |  \n",
      " |  content\n",
      " |      Content of the response, in bytes.\n",
      " |  \n",
      " |  is_permanent_redirect\n",
      " |      True if this Response one of the permanent versions of redirect.\n",
      " |  \n",
      " |  is_redirect\n",
      " |      True if this Response is a well-formed HTTP redirect that could have\n",
      " |      been processed automatically (by :meth:`Session.resolve_redirects`).\n",
      " |  \n",
      " |  links\n",
      " |      Returns the parsed header links of the response, if any.\n",
      " |  \n",
      " |  next\n",
      " |      Returns a PreparedRequest for the next request in a redirect chain, if there is one.\n",
      " |  \n",
      " |  ok\n",
      " |      Returns True if :attr:`status_code` is less than 400.\n",
      " |      \n",
      " |      This attribute checks if the status code of the response is between\n",
      " |      400 and 600 to see if there was a client error or a server error. If\n",
      " |      the status code, is between 200 and 400, this will return True. This\n",
      " |      is **not** a check to see if the response code is ``200 OK``.\n",
      " |  \n",
      " |  text\n",
      " |      Content of the response, in unicode.\n",
      " |      \n",
      " |      If Response.encoding is None, encoding will be guessed using\n",
      " |      ``chardet``.\n",
      " |      \n",
      " |      The encoding of the response content is determined based solely on HTTP\n",
      " |      headers, following RFC 2616 to the letter. If you can take advantage of\n",
      " |      non-HTTP knowledge to make a better guess at the encoding, you should\n",
      " |      set ``r.encoding`` appropriately before accessing this property.\n",
      " |  \n",
      " |  ----------------------------------------------------------------------\n",
      " |  Data and other attributes defined here:\n",
      " |  \n",
      " |  __attrs__ = ['_content', 'status_code', 'headers', 'url', 'history', '...\n",
      "\n"
     ]
    }
   ],
   "source": [
    "#help(requests.models.Response)\n",
    "help(r)"
   ]
  },
  {
   "cell_type": "code",
   "execution_count": 8,
   "metadata": {},
   "outputs": [
    {
     "name": "stderr",
     "output_type": "stream",
     "text": [
      "/Users/kaocaimac/venv/lib/python3.6/site-packages/bs4/__init__.py:181: UserWarning: No parser was explicitly specified, so I'm using the best available HTML parser for this system (\"lxml\"). This usually isn't a problem, but if you run this code on another system, or in a different virtual environment, it may use a different parser and behave differently.\n",
      "\n",
      "The code that caused this warning is on line 193 of the file /usr/local/Cellar/python3/3.6.4_2/Frameworks/Python.framework/Versions/3.6/lib/python3.6/runpy.py. To get rid of this warning, change code that looks like this:\n",
      "\n",
      " BeautifulSoup(YOUR_MARKUP})\n",
      "\n",
      "to this:\n",
      "\n",
      " BeautifulSoup(YOUR_MARKUP, \"lxml\")\n",
      "\n",
      "  markup_type=markup_type))\n"
     ]
    }
   ],
   "source": [
    "mypage = bs4.BeautifulSoup(r.text)"
   ]
  },
  {
   "cell_type": "code",
   "execution_count": 9,
   "metadata": {},
   "outputs": [],
   "source": [
    "s = str(mypage)"
   ]
  },
  {
   "cell_type": "code",
   "execution_count": 10,
   "metadata": {},
   "outputs": [],
   "source": [
    "#mypage"
   ]
  },
  {
   "cell_type": "code",
   "execution_count": 34,
   "metadata": {},
   "outputs": [
    {
     "data": {
      "text/plain": [
       "[<a class=\"brand\" href=\"#\"><img alt=\"\" class=\"logo\" src=\"img/tosdr-icon-16.png\" style=\"vertical-align:baseline;margin-right:.5em;\"/>Terms of Service; Didn't Read</a>,\n",
       " <a href=\"#services\">Ratings</a>,\n",
       " <a href=\"https://tosdr.org/about.html\">About</a>,\n",
       " <a href=\"http://twitter.com/tosdr\">@tosdr</a>,\n",
       " <a href=\"https://flattr.com/thing/3628260\" target=\"_blank\"><img alt=\"Flattr this\" border=\"0\" src=\"/img/flattr-badge-large.png\" title=\"Flattr this\"/></a>,\n",
       " <a href=\"about.html\" title=\"Learn more about us\">initiative</a>,\n",
       " <a href=\"classification.html\" title=\"What's our classification?\">rate and label</a>,\n",
       " <a href=\"#services\">on a service below</a>,\n",
       " <a class=\"btn btn-large btn-success\" href=\"downloads.html\">Download browser add-on</a>,\n",
       " <a href=\"contribute.html\">Contribute</a>,\n",
       " <a href=\"api.html\">Develop</a>,\n",
       " <a href=\"https://phoenix.tosdr.org\">Edit</a>,\n",
       " <a href=\"http://moneyland.time.com/2012/08/10/new-site-grades-those-pesky-terms-of-service-agreements-you-never-read/\"><img alt=\"Time\" src=\"img/time.png\"/></a>,\n",
       " <a href=\"http://gigaom.com/2012/08/14/i-agree-why-terms-of-service-report-cards-are-a-good-idea/\"><img alt=\"GigaOM\" src=\"img/gigaom.gif\"/></a>,\n",
       " <a href=\"http://www.theverge.com/2012/8/14/3241572/tos-dr-terms-of-service\"><img alt=\"The Verge\" src=\"img/verge.png\"/></a>,\n",
       " <a href=\"http://www.lemonde.fr/technologies/article/2012/08/14/un-site-veut-mettre-fin-au-mensonge-des-conditions-d-utilisation-sur-internet_1745942_651865.html\"><img alt=\"Le Monde\" src=\"img/lemondefr.png\"/></a>,\n",
       " <a href=\"http://www.zeit.de/digital/internet/2012-08/terms-of-service-did-not-read\"><img alt=\"Die Zeit\" src=\"img/zeit.png\"/></a>,\n",
       " <a href=\"http://blog.tosdr.org\" style=\"font-weight:700\">Go to our blog</a>,\n",
       " <a href=\"http://blog.tosdr.org/index.atom\">Feed</a>,\n",
       " <a href=\"#services\">Services</a>,\n",
       " <a href=\"https://tosdr.org/topics.html#topics\">Topics</a>,\n",
       " <a class=\"btn\" href=\"#services\">Search</a>,\n",
       " <a class=\"modal-link\" data-service-name=\"google\" href=\"#google\">Google</a>,\n",
       " <a href=\"classification.html\" title=\"Learn more about our classification\"><span class=\"label C\">Class C</span></a>,\n",
       " <a class=\"modal-link\" data-service-name=\"google\" href=\"#\"><i class=\"icon icon-th-list\"></i> More details</a>,\n",
       " <a class=\"modal-link\" data-service-name=\"youtube\" href=\"#youtube\">YouTube</a>,\n",
       " <a href=\"classification.html\" title=\"Learn more about our classification\"><span class=\"label D\">Class D</span></a>,\n",
       " <a class=\"modal-link\" data-service-name=\"youtube\" href=\"#\"><i class=\"icon icon-th-list\"></i> More details</a>,\n",
       " <a class=\"modal-link\" data-service-name=\"github\" href=\"#github\">GitHub</a>,\n",
       " <a href=\"classification.html\" title=\"Learn more about our classification\"><span class=\"label B\">Class B</span></a>,\n",
       " <a class=\"modal-link\" data-service-name=\"github\" href=\"#\"><i class=\"icon icon-th-list\"></i> More details</a>,\n",
       " <a class=\"modal-link\" data-service-name=\"soundcloud\" href=\"#soundcloud\">SoundCloud</a>,\n",
       " <a href=\"classification.html\" title=\"Learn more about our classification\"><span class=\"label B\">Class B</span></a>,\n",
       " <a class=\"modal-link\" data-service-name=\"soundcloud\" href=\"#\"><i class=\"icon icon-th-list\"></i> More details</a>,\n",
       " <a class=\"modal-link\" data-service-name=\"duckduckgo\" href=\"#duckduckgo\">DuckDuckGo</a>,\n",
       " <a href=\"classification.html\" title=\"Learn more about our classification\"><span class=\"label A\">Class A</span></a>,\n",
       " <a class=\"modal-link\" data-service-name=\"duckduckgo\" href=\"#\"><i class=\"icon icon-th-list\"></i> More details</a>,\n",
       " <a class=\"modal-link\" data-service-name=\"500px\" href=\"#500px\">500px</a>,\n",
       " <a href=\"classification.html\" title=\"Learn more about our classification\"><span class=\"label D\">Class D</span></a>,\n",
       " <a class=\"modal-link\" data-service-name=\"500px\" href=\"#\"><i class=\"icon icon-th-list\"></i> More details</a>,\n",
       " <a class=\"modal-link\" data-service-name=\"lastpass\" href=\"#lastpass\">lastpass</a>,\n",
       " <a href=\"classification.html\" title=\"Learn more about our classification\"><span class=\"label B\">Class B</span></a>,\n",
       " <a class=\"modal-link\" data-service-name=\"lastpass\" href=\"#\"><i class=\"icon icon-th-list\"></i> More details</a>,\n",
       " <a class=\"modal-link\" data-service-name=\"facebook\" href=\"#facebook\">Facebook</a>,\n",
       " <a href=\"classification.html\" title=\"Learn more about our classification\"><span class=\"label false\">No Class Yet</span></a>,\n",
       " <a class=\"modal-link\" data-service-name=\"facebook\" href=\"#\"><i class=\"icon icon-th-list\"></i> More details</a>,\n",
       " <a class=\"modal-link\" data-service-name=\"wikipedia\" href=\"#wikipedia\">Wikipedia</a>,\n",
       " <a href=\"classification.html\" title=\"Learn more about our classification\"><span class=\"label false\">No Class Yet</span></a>,\n",
       " <a class=\"modal-link\" data-service-name=\"wikipedia\" href=\"#\"><i class=\"icon icon-th-list\"></i> More details</a>,\n",
       " <a class=\"modal-link\" data-service-name=\"yahoo\" href=\"#yahoo\">Yahoo!</a>,\n",
       " <a href=\"classification.html\" title=\"Learn more about our classification\"><span class=\"label false\">No Class Yet</span></a>,\n",
       " <a class=\"modal-link\" data-service-name=\"yahoo\" href=\"#\"><i class=\"icon icon-th-list\"></i> More details</a>,\n",
       " <a class=\"modal-link\" data-service-name=\"amazon\" href=\"#amazon\">Amazon</a>,\n",
       " <a href=\"classification.html\" title=\"Learn more about our classification\"><span class=\"label false\">No Class Yet</span></a>,\n",
       " <a class=\"modal-link\" data-service-name=\"amazon\" href=\"#\"><i class=\"icon icon-th-list\"></i> More details</a>,\n",
       " <a class=\"modal-link\" data-service-name=\"twitter\" href=\"#twitter\">twitter</a>,\n",
       " <a href=\"classification.html\" title=\"Learn more about our classification\"><span class=\"label false\">No Class Yet</span></a>,\n",
       " <a class=\"modal-link\" data-service-name=\"twitter\" href=\"#\"><i class=\"icon icon-th-list\"></i> More details</a>,\n",
       " <a class=\"modal-link\" data-service-name=\"instagram\" href=\"#instagram\">Instagram</a>,\n",
       " <a href=\"classification.html\" title=\"Learn more about our classification\"><span class=\"label false\">No Class Yet</span></a>,\n",
       " <a class=\"modal-link\" data-service-name=\"instagram\" href=\"#\"><i class=\"icon icon-th-list\"></i> More details</a>,\n",
       " <a class=\"modal-link\" data-service-name=\"netflix\" href=\"#netflix\">netflix</a>,\n",
       " <a href=\"classification.html\" title=\"Learn more about our classification\"><span class=\"label false\">No Class Yet</span></a>,\n",
       " <a class=\"modal-link\" data-service-name=\"netflix\" href=\"#\"><i class=\"icon icon-th-list\"></i> More details</a>,\n",
       " <a class=\"modal-link\" data-service-name=\"imgur\" href=\"#imgur\">imgur</a>,\n",
       " <a href=\"classification.html\" title=\"Learn more about our classification\"><span class=\"label false\">No Class Yet</span></a>,\n",
       " <a class=\"modal-link\" data-service-name=\"imgur\" href=\"#\"><i class=\"icon icon-th-list\"></i> More details</a>,\n",
       " <a class=\"modal-link\" data-service-name=\"microsoft\" href=\"#microsoft\">Microsoft Services</a>,\n",
       " <a href=\"classification.html\" title=\"Learn more about our classification\"><span class=\"label false\">No Class Yet</span></a>,\n",
       " <a class=\"modal-link\" data-service-name=\"microsoft\" href=\"#\"><i class=\"icon icon-th-list\"></i> More details</a>,\n",
       " <a class=\"modal-link\" data-service-name=\"microsoft-store\" href=\"#microsoft-store\">Microsoft Store</a>,\n",
       " <a href=\"classification.html\" title=\"Learn more about our classification\"><span class=\"label false\">No Class Yet</span></a>,\n",
       " <a class=\"modal-link\" data-service-name=\"microsoft-store\" href=\"#\"><i class=\"icon icon-th-list\"></i> More details</a>,\n",
       " <a class=\"modal-link\" data-service-name=\"tumblr\" href=\"#tumblr\">Tumblr</a>,\n",
       " <a href=\"classification.html\" title=\"Learn more about our classification\"><span class=\"label false\">No Class Yet</span></a>,\n",
       " <a class=\"modal-link\" data-service-name=\"tumblr\" href=\"#\"><i class=\"icon icon-th-list\"></i> More details</a>,\n",
       " <a class=\"modal-link\" data-service-name=\"wordpress-com\" href=\"#wordpress-com\">Wordpress.com</a>,\n",
       " <a href=\"classification.html\" title=\"Learn more about our classification\"><span class=\"label false\">No Class Yet</span></a>,\n",
       " <a class=\"modal-link\" data-service-name=\"wordpress-com\" href=\"#\"><i class=\"icon icon-th-list\"></i> More details</a>,\n",
       " <a class=\"modal-link\" data-service-name=\"apple\" href=\"#apple\">Apple</a>,\n",
       " <a href=\"classification.html\" title=\"Learn more about our classification\"><span class=\"label false\">No Class Yet</span></a>,\n",
       " <a class=\"modal-link\" data-service-name=\"apple\" href=\"#\"><i class=\"icon icon-th-list\"></i> More details</a>,\n",
       " <a class=\"modal-link\" data-service-name=\"whatsapp\" href=\"#whatsapp\">WhatsApp</a>,\n",
       " <a href=\"classification.html\" title=\"Learn more about our classification\"><span class=\"label false\">No Class Yet</span></a>,\n",
       " <a class=\"modal-link\" data-service-name=\"whatsapp\" href=\"#\"><i class=\"icon icon-th-list\"></i> More details</a>,\n",
       " <a class=\"modal-link\" data-service-name=\"blogspot\" href=\"#blogspot\">blogspot</a>,\n",
       " <a href=\"classification.html\" title=\"Learn more about our classification\"><span class=\"label false\">No Class Yet</span></a>,\n",
       " <a class=\"modal-link\" data-service-name=\"blogspot\" href=\"#\"><i class=\"icon icon-th-list\"></i> More details</a>,\n",
       " <a class=\"modal-link\" data-service-name=\"dropbox\" href=\"#dropbox\">Dropbox</a>,\n",
       " <a href=\"classification.html\" title=\"Learn more about our classification\"><span class=\"label false\">No Class Yet</span></a>,\n",
       " <a class=\"modal-link\" data-service-name=\"dropbox\" href=\"#\"><i class=\"icon icon-th-list\"></i> More details</a>,\n",
       " <a class=\"modal-link\" data-service-name=\"bbc\" href=\"#bbc\">bbc</a>,\n",
       " <a href=\"classification.html\" title=\"Learn more about our classification\"><span class=\"label false\">No Class Yet</span></a>,\n",
       " <a class=\"modal-link\" data-service-name=\"bbc\" href=\"#\"><i class=\"icon icon-th-list\"></i> More details</a>,\n",
       " <a class=\"modal-link\" data-service-name=\"cnn\" href=\"#cnn\">cnn</a>,\n",
       " <a href=\"classification.html\" title=\"Learn more about our classification\"><span class=\"label false\">No Class Yet</span></a>,\n",
       " <a class=\"modal-link\" data-service-name=\"cnn\" href=\"#\"><i class=\"icon icon-th-list\"></i> More details</a>,\n",
       " <a class=\"modal-link\" data-service-name=\"spotify\" href=\"#spotify\">Spotify</a>,\n",
       " <a href=\"classification.html\" title=\"Learn more about our classification\"><span class=\"label false\">No Class Yet</span></a>,\n",
       " <a class=\"modal-link\" data-service-name=\"spotify\" href=\"#\"><i class=\"icon icon-th-list\"></i> More details</a>,\n",
       " <a class=\"modal-link\" data-service-name=\"quora\" href=\"#quora\">quora</a>,\n",
       " <a href=\"classification.html\" title=\"Learn more about our classification\"><span class=\"label false\">No Class Yet</span></a>,\n",
       " <a class=\"modal-link\" data-service-name=\"quora\" href=\"#\"><i class=\"icon icon-th-list\"></i> More details</a>,\n",
       " <a class=\"modal-link\" data-service-name=\"cnet\" href=\"#cnet\">cnet</a>,\n",
       " <a href=\"classification.html\" title=\"Learn more about our classification\"><span class=\"label false\">No Class Yet</span></a>,\n",
       " <a class=\"modal-link\" data-service-name=\"cnet\" href=\"#\"><i class=\"icon icon-th-list\"></i> More details</a>,\n",
       " <a class=\"modal-link\" data-service-name=\"steam\" href=\"#steam\">Steam</a>,\n",
       " <a href=\"classification.html\" title=\"Learn more about our classification\"><span class=\"label false\">No Class Yet</span></a>,\n",
       " <a class=\"modal-link\" data-service-name=\"steam\" href=\"#\"><i class=\"icon icon-th-list\"></i> More details</a>,\n",
       " <a class=\"modal-link\" data-service-name=\"foxnews\" href=\"#foxnews\">foxnews</a>,\n",
       " <a href=\"classification.html\" title=\"Learn more about our classification\"><span class=\"label false\">No Class Yet</span></a>,\n",
       " <a class=\"modal-link\" data-service-name=\"foxnews\" href=\"#\"><i class=\"icon icon-th-list\"></i> More details</a>,\n",
       " <a class=\"modal-link\" data-service-name=\"flickr\" href=\"#flickr\">Flickr</a>,\n",
       " <a href=\"classification.html\" title=\"Learn more about our classification\"><span class=\"label false\">No Class Yet</span></a>,\n",
       " <a class=\"modal-link\" data-service-name=\"flickr\" href=\"#\"><i class=\"icon icon-th-list\"></i> More details</a>,\n",
       " <a class=\"modal-link\" data-service-name=\"skype\" href=\"#skype\">Skype</a>,\n",
       " <a href=\"classification.html\" title=\"Learn more about our classification\"><span class=\"label false\">No Class Yet</span></a>,\n",
       " <a class=\"modal-link\" data-service-name=\"skype\" href=\"#\"><i class=\"icon icon-th-list\"></i> More details</a>,\n",
       " <a class=\"modal-link\" data-service-name=\"apple-icloud\" href=\"#apple-icloud\">Apple iCloud</a>,\n",
       " <a href=\"classification.html\" title=\"Learn more about our classification\"><span class=\"label false\">No Class Yet</span></a>,\n",
       " <a class=\"modal-link\" data-service-name=\"apple-icloud\" href=\"#\"><i class=\"icon icon-th-list\"></i> More details</a>,\n",
       " <a class=\"modal-link\" data-service-name=\"evernote\" href=\"#evernote\">Evernote</a>,\n",
       " <a href=\"classification.html\" title=\"Learn more about our classification\"><span class=\"label false\">No Class Yet</span></a>,\n",
       " <a class=\"modal-link\" data-service-name=\"evernote\" href=\"#\"><i class=\"icon icon-th-list\"></i> More details</a>,\n",
       " <a class=\"modal-link\" data-service-name=\"dictionary\" href=\"#dictionary\">dictionary</a>,\n",
       " <a href=\"classification.html\" title=\"Learn more about our classification\"><span class=\"label false\">No Class Yet</span></a>,\n",
       " <a class=\"modal-link\" data-service-name=\"dictionary\" href=\"#\"><i class=\"icon icon-th-list\"></i> More details</a>,\n",
       " <a class=\"modal-link\" data-service-name=\"allrecipes\" href=\"#allrecipes\">allrecipes</a>,\n",
       " <a href=\"classification.html\" title=\"Learn more about our classification\"><span class=\"label false\">No Class Yet</span></a>,\n",
       " <a class=\"modal-link\" data-service-name=\"allrecipes\" href=\"#\"><i class=\"icon icon-th-list\"></i> More details</a>,\n",
       " <a class=\"modal-link\" data-service-name=\"coursera\" href=\"#coursera\">coursera</a>,\n",
       " <a href=\"classification.html\" title=\"Learn more about our classification\"><span class=\"label false\">No Class Yet</span></a>,\n",
       " <a class=\"modal-link\" data-service-name=\"coursera\" href=\"#\"><i class=\"icon icon-th-list\"></i> More details</a>,\n",
       " <a class=\"modal-link\" data-service-name=\"disqus\" href=\"#disqus\">Disqus</a>,\n",
       " <a href=\"classification.html\" title=\"Learn more about our classification\"><span class=\"label false\">No Class Yet</span></a>,\n",
       " <a class=\"modal-link\" data-service-name=\"disqus\" href=\"#\"><i class=\"icon icon-th-list\"></i> More details</a>,\n",
       " <a class=\"modal-link\" data-service-name=\"grammarly\" href=\"#grammarly\">Grammarly</a>,\n",
       " <a href=\"classification.html\" title=\"Learn more about our classification\"><span class=\"label false\">No Class Yet</span></a>,\n",
       " <a class=\"modal-link\" data-service-name=\"grammarly\" href=\"#\"><i class=\"icon icon-th-list\"></i> More details</a>,\n",
       " <a class=\"modal-link\" data-service-name=\"bit-ly\" href=\"#bit-ly\">bitly</a>,\n",
       " <a href=\"classification.html\" title=\"Learn more about our classification\"><span class=\"label false\">No Class Yet</span></a>,\n",
       " <a class=\"modal-link\" data-service-name=\"bit-ly\" href=\"#\"><i class=\"icon icon-th-list\"></i> More details</a>,\n",
       " <a class=\"modal-link\" data-service-name=\"world-of-warcraft\" href=\"#world-of-warcraft\">World of Warcraft</a>,\n",
       " <a href=\"classification.html\" title=\"Learn more about our classification\"><span class=\"label false\">No Class Yet</span></a>,\n",
       " <a class=\"modal-link\" data-service-name=\"world-of-warcraft\" href=\"#\"><i class=\"icon icon-th-list\"></i> More details</a>,\n",
       " <a class=\"modal-link\" data-service-name=\"envato\" href=\"#envato\">envato</a>,\n",
       " <a href=\"classification.html\" title=\"Learn more about our classification\"><span class=\"label false\">No Class Yet</span></a>,\n",
       " <a class=\"modal-link\" data-service-name=\"envato\" href=\"#\"><i class=\"icon icon-th-list\"></i> More details</a>,\n",
       " <a class=\"modal-link\" data-service-name=\"runescape\" href=\"#runescape\">RuneScape</a>,\n",
       " <a href=\"classification.html\" title=\"Learn more about our classification\"><span class=\"label false\">No Class Yet</span></a>,\n",
       " <a class=\"modal-link\" data-service-name=\"runescape\" href=\"#\"><i class=\"icon icon-th-list\"></i> More details</a>,\n",
       " <a class=\"modal-link\" data-service-name=\"xing\" href=\"#xing\">XING</a>,\n",
       " <a href=\"classification.html\" title=\"Learn more about our classification\"><span class=\"label false\">No Class Yet</span></a>,\n",
       " <a class=\"modal-link\" data-service-name=\"xing\" href=\"#\"><i class=\"icon icon-th-list\"></i> More details</a>,\n",
       " <a class=\"modal-link\" data-service-name=\"mint.com\" href=\"#mint.com\">mint</a>,\n",
       " <a href=\"classification.html\" title=\"Learn more about our classification\"><span class=\"label false\">No Class Yet</span></a>,\n",
       " <a class=\"modal-link\" data-service-name=\"mint.com\" href=\"#\"><i class=\"icon icon-th-list\"></i> More details</a>,\n",
       " <a class=\"modal-link\" data-service-name=\"ifttt\" href=\"#ifttt\">IFTTT</a>,\n",
       " <a href=\"classification.html\" title=\"Learn more about our classification\"><span class=\"label false\">No Class Yet</span></a>,\n",
       " <a class=\"modal-link\" data-service-name=\"ifttt\" href=\"#\"><i class=\"icon icon-th-list\"></i> More details</a>,\n",
       " <a class=\"modal-link\" data-service-name=\"zoosk\" href=\"#zoosk\">Zoosk</a>,\n",
       " <a href=\"classification.html\" title=\"Learn more about our classification\"><span class=\"label false\">No Class Yet</span></a>,\n",
       " <a class=\"modal-link\" data-service-name=\"zoosk\" href=\"#\"><i class=\"icon icon-th-list\"></i> More details</a>,\n",
       " <a class=\"modal-link\" data-service-name=\"gravatar\" href=\"#gravatar\">Gravatar</a>,\n",
       " <a href=\"classification.html\" title=\"Learn more about our classification\"><span class=\"label false\">No Class Yet</span></a>,\n",
       " <a class=\"modal-link\" data-service-name=\"gravatar\" href=\"#\"><i class=\"icon icon-th-list\"></i> More details</a>,\n",
       " <a class=\"modal-link\" data-service-name=\"nabble\" href=\"#nabble\">Nabble</a>,\n",
       " <a href=\"classification.html\" title=\"Learn more about our classification\"><span class=\"label false\">No Class Yet</span></a>,\n",
       " <a class=\"modal-link\" data-service-name=\"nabble\" href=\"#\"><i class=\"icon icon-th-list\"></i> More details</a>,\n",
       " <a class=\"modal-link\" data-service-name=\"jagex\" href=\"#jagex\">jagex</a>,\n",
       " <a href=\"classification.html\" title=\"Learn more about our classification\"><span class=\"label false\">No Class Yet</span></a>,\n",
       " <a class=\"modal-link\" data-service-name=\"jagex\" href=\"#\"><i class=\"icon icon-th-list\"></i> More details</a>,\n",
       " <a class=\"modal-link\" data-service-name=\"packagetrackr\" href=\"#packagetrackr\">packagetrackr</a>,\n",
       " <a href=\"classification.html\" title=\"Learn more about our classification\"><span class=\"label false\">No Class Yet</span></a>,\n",
       " <a class=\"modal-link\" data-service-name=\"packagetrackr\" href=\"#\"><i class=\"icon icon-th-list\"></i> More details</a>,\n",
       " <a class=\"modal-link\" data-service-name=\"habbo\" href=\"#habbo\">Habbo</a>,\n",
       " <a href=\"classification.html\" title=\"Learn more about our classification\"><span class=\"label false\">No Class Yet</span></a>,\n",
       " <a class=\"modal-link\" data-service-name=\"habbo\" href=\"#\"><i class=\"icon icon-th-list\"></i> More details</a>,\n",
       " <a class=\"modal-link\" data-service-name=\"phpbb\" href=\"#phpbb\">phpBB</a>,\n",
       " <a href=\"classification.html\" title=\"Learn more about our classification\"><span class=\"label false\">No Class Yet</span></a>,\n",
       " <a class=\"modal-link\" data-service-name=\"phpbb\" href=\"#\"><i class=\"icon icon-th-list\"></i> More details</a>,\n",
       " <a class=\"modal-link\" data-service-name=\"olx\" href=\"#olx\">OLX</a>,\n",
       " <a href=\"classification.html\" title=\"Learn more about our classification\"><span class=\"label false\">No Class Yet</span></a>,\n",
       " <a class=\"modal-link\" data-service-name=\"olx\" href=\"#\"><i class=\"icon icon-th-list\"></i> More details</a>,\n",
       " <a class=\"modal-link\" data-service-name=\"twitpic\" href=\"#twitpic\">Twitpic</a>,\n",
       " <a href=\"classification.html\" title=\"Learn more about our classification\"><span class=\"label false\">No Class Yet</span></a>,\n",
       " <a class=\"modal-link\" data-service-name=\"twitpic\" href=\"#\"><i class=\"icon icon-th-list\"></i> More details</a>,\n",
       " <a class=\"modal-link\" data-service-name=\"sonic-net\" href=\"#sonic-net\">Sonic.net</a>,\n",
       " <a href=\"classification.html\" title=\"Learn more about our classification\"><span class=\"label false\">No Class Yet</span></a>,\n",
       " <a class=\"modal-link\" data-service-name=\"sonic-net\" href=\"#\"><i class=\"icon icon-th-list\"></i> More details</a>,\n",
       " <a class=\"modal-link\" data-service-name=\"hypster\" href=\"#hypster\">Hypster</a>,\n",
       " <a href=\"classification.html\" title=\"Learn more about our classification\"><span class=\"label false\">No Class Yet</span></a>,\n",
       " <a class=\"modal-link\" data-service-name=\"hypster\" href=\"#\"><i class=\"icon icon-th-list\"></i> More details</a>,\n",
       " <a class=\"modal-link\" data-service-name=\"flattr\" href=\"#flattr\">Flattr</a>,\n",
       " <a href=\"classification.html\" title=\"Learn more about our classification\"><span class=\"label false\">No Class Yet</span></a>,\n",
       " <a class=\"modal-link\" data-service-name=\"flattr\" href=\"#\"><i class=\"icon icon-th-list\"></i> More details</a>,\n",
       " <a class=\"modal-link\" data-service-name=\"vbulletin\" href=\"#vbulletin\">vBulletin</a>,\n",
       " <a href=\"classification.html\" title=\"Learn more about our classification\"><span class=\"label false\">No Class Yet</span></a>,\n",
       " <a class=\"modal-link\" data-service-name=\"vbulletin\" href=\"#\"><i class=\"icon icon-th-list\"></i> More details</a>,\n",
       " <a class=\"modal-link\" data-service-name=\"informe\" href=\"#informe\">Informe</a>,\n",
       " <a href=\"classification.html\" title=\"Learn more about our classification\"><span class=\"label false\">No Class Yet</span></a>,\n",
       " <a class=\"modal-link\" data-service-name=\"informe\" href=\"#\"><i class=\"icon icon-th-list\"></i> More details</a>,\n",
       " <a class=\"modal-link\" data-service-name=\"couchsurfing\" href=\"#couchsurfing\">couchsurfing</a>,\n",
       " <a href=\"classification.html\" title=\"Learn more about our classification\"><span class=\"label false\">No Class Yet</span></a>,\n",
       " <a class=\"modal-link\" data-service-name=\"couchsurfing\" href=\"#\"><i class=\"icon icon-th-list\"></i> More details</a>,\n",
       " <a class=\"modal-link\" data-service-name=\"rapidshare\" href=\"#rapidshare\">Rapidshare</a>,\n",
       " <a href=\"classification.html\" title=\"Learn more about our classification\"><span class=\"label false\">No Class Yet</span></a>,\n",
       " <a class=\"modal-link\" data-service-name=\"rapidshare\" href=\"#\"><i class=\"icon icon-th-list\"></i> More details</a>,\n",
       " <a class=\"modal-link\" data-service-name=\"cloudant\" href=\"#cloudant\">Cloudant</a>,\n",
       " <a href=\"classification.html\" title=\"Learn more about our classification\"><span class=\"label B\">Class B</span></a>,\n",
       " <a class=\"modal-link\" data-service-name=\"cloudant\" href=\"#\"><i class=\"icon icon-th-list\"></i> More details</a>,\n",
       " <a class=\"modal-link\" data-service-name=\"ebuddy\" href=\"#ebuddy\">eBuddy</a>,\n",
       " <a href=\"classification.html\" title=\"Learn more about our classification\"><span class=\"label false\">No Class Yet</span></a>,\n",
       " <a class=\"modal-link\" data-service-name=\"ebuddy\" href=\"#\"><i class=\"icon icon-th-list\"></i> More details</a>,\n",
       " <a class=\"modal-link\" data-service-name=\"identi-ca\" href=\"#identi-ca\">identi.ca</a>,\n",
       " <a href=\"classification.html\" title=\"Learn more about our classification\"><span class=\"label false\">No Class Yet</span></a>,\n",
       " <a class=\"modal-link\" data-service-name=\"identi-ca\" href=\"#\"><i class=\"icon icon-th-list\"></i> More details</a>,\n",
       " <a class=\"modal-link\" data-service-name=\"kolabnow\" href=\"#kolabnow\">Kolab Now</a>,\n",
       " <a href=\"classification.html\" title=\"Learn more about our classification\"><span class=\"label A\">Class A</span></a>,\n",
       " <a class=\"modal-link\" data-service-name=\"kolabnow\" href=\"#\"><i class=\"icon icon-th-list\"></i> More details</a>,\n",
       " <a class=\"modal-link\" data-service-name=\"owncube\" href=\"#owncube\">OwnCube</a>,\n",
       " <a href=\"classification.html\" title=\"Learn more about our classification\"><span class=\"label false\">No Class Yet</span></a>,\n",
       " <a class=\"modal-link\" data-service-name=\"owncube\" href=\"#\"><i class=\"icon icon-th-list\"></i> More details</a>,\n",
       " <a class=\"modal-link\" data-service-name=\"seenthis\" href=\"#seenthis\">SeenThis</a>,\n",
       " <a href=\"classification.html\" title=\"Learn more about our classification\"><span class=\"label A\">Class A</span></a>,\n",
       " <a class=\"modal-link\" data-service-name=\"seenthis\" href=\"#\"><i class=\"icon icon-th-list\"></i> More details</a>,\n",
       " <a class=\"modal-link\" data-service-name=\"delicious\" href=\"#delicious\">Delicious</a>,\n",
       " <a href=\"classification.html\" title=\"Learn more about our classification\"><span class=\"label D\">Class D</span></a>,\n",
       " <a class=\"modal-link\" data-service-name=\"delicious\" href=\"#\"><i class=\"icon icon-th-list\"></i> More details</a>,\n",
       " <a class=\"modal-link\" data-service-name=\"xfire\" href=\"#xfire\">Xfire</a>,\n",
       " <a href=\"classification.html\" title=\"Learn more about our classification\"><span class=\"label false\">No Class Yet</span></a>,\n",
       " <a class=\"modal-link\" data-service-name=\"xfire\" href=\"#\"><i class=\"icon icon-th-list\"></i> More details</a>,\n",
       " <a class=\"modal-link\" data-service-name=\"freeforums\" href=\"#freeforums\">Freeforums</a>,\n",
       " <a href=\"classification.html\" title=\"Learn more about our classification\"><span class=\"label false\">No Class Yet</span></a>,\n",
       " <a class=\"modal-link\" data-service-name=\"freeforums\" href=\"#\"><i class=\"icon icon-th-list\"></i> More details</a>,\n",
       " <a class=\"modal-link\" data-service-name=\"wordfeud\" href=\"#wordfeud\">Wordfeud</a>,\n",
       " <a href=\"classification.html\" title=\"Learn more about our classification\"><span class=\"label false\">No Class Yet</span></a>,\n",
       " <a class=\"modal-link\" data-service-name=\"wordfeud\" href=\"#\"><i class=\"icon icon-th-list\"></i> More details</a>,\n",
       " <a class=\"modal-link\" data-service-name=\"videobb\" href=\"#videobb\">videoBB</a>,\n",
       " <a href=\"classification.html\" title=\"Learn more about our classification\"><span class=\"label false\">No Class Yet</span></a>,\n",
       " <a class=\"modal-link\" data-service-name=\"videobb\" href=\"#\"><i class=\"icon icon-th-list\"></i> More details</a>,\n",
       " <a class=\"modal-link\" data-service-name=\"bearshare\" href=\"#bearshare\">BearShare</a>,\n",
       " <a href=\"classification.html\" title=\"Learn more about our classification\"><span class=\"label false\">No Class Yet</span></a>,\n",
       " <a class=\"modal-link\" data-service-name=\"bearshare\" href=\"#\"><i class=\"icon icon-th-list\"></i> More details</a>,\n",
       " <a class=\"modal-link\" data-service-name=\"app-net\" href=\"#app-net\">App.net</a>,\n",
       " <a href=\"classification.html\" title=\"Learn more about our classification\"><span class=\"label false\">No Class Yet</span></a>,\n",
       " <a class=\"modal-link\" data-service-name=\"app-net\" href=\"#\"><i class=\"icon icon-th-list\"></i> More details</a>,\n",
       " <a class=\"modal-link\" data-service-name=\"kippt\" href=\"#kippt\">Kippt</a>,\n",
       " <a href=\"classification.html\" title=\"Learn more about our classification\"><span class=\"label false\">No Class Yet</span></a>,\n",
       " <a class=\"modal-link\" data-service-name=\"kippt\" href=\"#\"><i class=\"icon icon-th-list\"></i> More details</a>,\n",
       " <a href=\"https://tosdr.org/index.html\">Home</a>,\n",
       " <a href=\"https://tosdr.org/index.html#services\">Rated Services</a>,\n",
       " <a href=\"https://tosdr.org/topics.html#topics\">Rated Topics</a>,\n",
       " <a href=\"https://tosdr.org/downloads.html\">Download browser extensions</a>,\n",
       " <a href=\"https://tosdr.org/about.html\">About</a>,\n",
       " <a href=\"https://tosdr.org/about.html#contact\">Contact us</a>,\n",
       " <a href=\"https://tosdr.org/classification.html\">Classification</a>,\n",
       " <a href=\"https://tosdr.org/legal.html\">Legal</a>,\n",
       " <a href=\"https://tosdr.org/blog/index.html\">Blog</a>,\n",
       " <a href=\"https://tosdr.org/contribute.html\">Contribute</a>,\n",
       " <a href=\"https://tosdr.org/contribute.html#donate\">Donate</a>,\n",
       " <a href=\"https://tosdr.org/contribute.html#join\">Join us</a>,\n",
       " <a href=\"https://tosdr.org/get-involved.html\">Get involved</a>,\n",
       " <a href=\"https://tosdr.org/api.html\">API</a>,\n",
       " <a href=\"http://twitter.com/tosdr\">Follow us on twitter</a>,\n",
       " <a href=\"https://plus.google.com/b/117929815628330307285/117929815628330307285/about\">Add on Google+</a>,\n",
       " <a href=\"https://www.facebook.com/TermsOfServiceDidntRead\">Like us on Facebook</a>,\n",
       " <a href=\"http://github.com/tosdr/\">Fork us on GitHub</a>,\n",
       " <a href=\"https://tosdr.org\">Terms of Service; Didn't Read</a>,\n",
       " <a href=\"http://azarask.in/blog/post/privacy-icons/\">Privacy Icons</a>,\n",
       " <a href=\"https://tosback.org/\">TOSBack</a>,\n",
       " <a href=\"http://www.opennotice.org/\">OpenNotice</a>,\n",
       " <a href=\"https://tosdr.org/thanks.html\">is published</a>,\n",
       " <a href=\"https://tosdr.org/legal.html\">All legal information and Imprint</a>,\n",
       " <a href=\"https://tosdr.org\">ToS;DR</a>,\n",
       " <a href=\"http://www.gnu.org/licenses/agpl-3.0-standalone.html\" rel=\"license\">AGPL-3.0</a>,\n",
       " <a href=\"https://github.com/tosdr/tosdr.org/zipball/master\">Source (zip)</a>,\n",
       " <a href=\"https://github.com/tosdr/tosdr.org/tree/master/services\"><code>services/</code></a>,\n",
       " <a href=\"https://github.com/tosdr/tosdr.org/tree/master/points\"><code>points/</code></a>,\n",
       " <a href=\"http://creativecommons.org/licenses/by-sa/3.0/\" rel=\"license\">CC BY-SA 3.0</a>,\n",
       " <a href=\"http://glyphicons.com/glyphicons-licenses/\">Glyphicons</a>,\n",
       " <a href=\"http://creativecommons.org/licenses/by/3.0/deed.en\">3.0  Unported license</a>,\n",
       " <a href=\"https://5apps.com/apps/512cb93cbc73cb2f84000002\"><img alt=\"5apps\" src=\"img/unhostedby5apps.png\"/></a>]"
      ]
     },
     "execution_count": 34,
     "metadata": {},
     "output_type": "execute_result"
    }
   ],
   "source": [
    "mypage.find_all(\"a\")"
   ]
  },
  {
   "cell_type": "code",
   "execution_count": 12,
   "metadata": {},
   "outputs": [
    {
     "data": {
      "text/plain": [
       "283"
      ]
     },
     "execution_count": 12,
     "metadata": {},
     "output_type": "execute_result"
    }
   ],
   "source": [
    "len(mypage.find_all('a'))"
   ]
  },
  {
   "cell_type": "code",
   "execution_count": 38,
   "metadata": {},
   "outputs": [],
   "source": [
    "myh3s = mypage.find_all('h3')"
   ]
  },
  {
   "cell_type": "code",
   "execution_count": 41,
   "metadata": {},
   "outputs": [
    {
     "data": {
      "text/plain": [
       "76"
      ]
     },
     "execution_count": 41,
     "metadata": {},
     "output_type": "execute_result"
    }
   ],
   "source": [
    "len(myh3s)"
   ]
  },
  {
   "cell_type": "code",
   "execution_count": 40,
   "metadata": {},
   "outputs": [],
   "source": [
    "myh3 = myh3s[0]"
   ]
  },
  {
   "cell_type": "code",
   "execution_count": 42,
   "metadata": {},
   "outputs": [
    {
     "data": {
      "text/plain": [
       "'Google'"
      ]
     },
     "execution_count": 42,
     "metadata": {},
     "output_type": "execute_result"
    }
   ],
   "source": [
    "myh3.find('a').text"
   ]
  },
  {
   "cell_type": "code",
   "execution_count": 43,
   "metadata": {},
   "outputs": [],
   "source": [
    "titles = []\n",
    "for myh3 in myh3s:\n",
    "    titles.append(myh3.find('a').text)"
   ]
  },
  {
   "cell_type": "code",
   "execution_count": 44,
   "metadata": {},
   "outputs": [
    {
     "data": {
      "text/plain": [
       "['Google',\n",
       " 'YouTube',\n",
       " 'GitHub',\n",
       " 'SoundCloud',\n",
       " 'DuckDuckGo',\n",
       " '500px',\n",
       " 'lastpass',\n",
       " 'Facebook',\n",
       " 'Wikipedia',\n",
       " 'Yahoo!',\n",
       " 'Amazon',\n",
       " 'twitter',\n",
       " 'Instagram',\n",
       " 'netflix',\n",
       " 'imgur',\n",
       " 'Microsoft Services',\n",
       " 'Microsoft Store',\n",
       " 'Tumblr',\n",
       " 'Wordpress.com',\n",
       " 'Apple',\n",
       " 'WhatsApp',\n",
       " 'blogspot',\n",
       " 'Dropbox',\n",
       " 'bbc',\n",
       " 'cnn',\n",
       " 'Spotify',\n",
       " 'quora',\n",
       " 'cnet',\n",
       " 'Steam',\n",
       " 'foxnews',\n",
       " 'Flickr',\n",
       " 'Skype',\n",
       " 'Apple iCloud',\n",
       " 'Evernote',\n",
       " 'dictionary',\n",
       " 'allrecipes',\n",
       " 'coursera',\n",
       " 'Disqus',\n",
       " 'Grammarly',\n",
       " 'bitly',\n",
       " 'World of Warcraft',\n",
       " 'envato',\n",
       " 'RuneScape',\n",
       " 'XING',\n",
       " 'mint',\n",
       " 'IFTTT',\n",
       " 'Zoosk',\n",
       " 'Gravatar',\n",
       " 'Nabble',\n",
       " 'jagex',\n",
       " 'packagetrackr',\n",
       " 'Habbo',\n",
       " 'phpBB',\n",
       " 'OLX',\n",
       " 'Twitpic',\n",
       " 'Sonic.net',\n",
       " 'Hypster',\n",
       " 'Flattr',\n",
       " 'vBulletin',\n",
       " 'Informe',\n",
       " 'couchsurfing',\n",
       " 'Rapidshare',\n",
       " 'Cloudant',\n",
       " 'eBuddy',\n",
       " 'identi.ca',\n",
       " 'Kolab Now',\n",
       " 'OwnCube',\n",
       " 'SeenThis',\n",
       " 'Delicious',\n",
       " 'Xfire',\n",
       " 'Freeforums',\n",
       " 'Wordfeud',\n",
       " 'videoBB',\n",
       " 'BearShare',\n",
       " 'App.net',\n",
       " 'Kippt']"
      ]
     },
     "execution_count": 44,
     "metadata": {},
     "output_type": "execute_result"
    }
   ],
   "source": [
    "titles"
   ]
  },
  {
   "cell_type": "code",
   "execution_count": 46,
   "metadata": {},
   "outputs": [],
   "source": [
    "myterms = mypage.find_all('div', attrs={'class': 'span6 service-nutshell'})"
   ]
  },
  {
   "cell_type": "code",
   "execution_count": 47,
   "metadata": {},
   "outputs": [],
   "source": [
    "myterm = myterms[0]"
   ]
  },
  {
   "cell_type": "code",
   "execution_count": 48,
   "metadata": {},
   "outputs": [
    {
     "data": {
      "text/plain": [
       "<h3><img class=\"favlogo\" src=\"logo/google.png\"/><a class=\"modal-link\" data-service-name=\"google\" href=\"#google\">Google</a>\n",
       "<div class=\"service-rating\" id=\"google-rating\"><a href=\"classification.html\" title=\"Learn more about our classification\"><span class=\"label C\">Class C</span></a></div></h3>"
      ]
     },
     "execution_count": 48,
     "metadata": {},
     "output_type": "execute_result"
    }
   ],
   "source": [
    "myterm.find()"
   ]
  },
  {
   "cell_type": "code",
   "execution_count": 49,
   "metadata": {},
   "outputs": [
    {
     "data": {
      "text/plain": [
       "'Google'"
      ]
     },
     "execution_count": 49,
     "metadata": {},
     "output_type": "execute_result"
    }
   ],
   "source": [
    "myterm.find('h3').find('a').text"
   ]
  },
  {
   "cell_type": "code",
   "execution_count": 54,
   "metadata": {},
   "outputs": [
    {
     "data": {
      "text/plain": [
       "'Class C'"
      ]
     },
     "execution_count": 54,
     "metadata": {},
     "output_type": "execute_result"
    }
   ],
   "source": [
    "myterm.find(\n",
    "    'div', attrs={'class': 'service-rating'}\n",
    ").find('span').text"
   ]
  },
  {
   "cell_type": "code",
   "execution_count": 98,
   "metadata": {},
   "outputs": [],
   "source": [
    "terms = []\n",
    "for myterm in myterms:\n",
    "    mytitle = myterm.find('h3').find('a').text\n",
    "    myrating = myterm.find(\n",
    "        'div', attrs={'class': 'service-rating'}\n",
    "    ).find('span').text\n",
    "    myreason = myterm.find(\n",
    "        'ul',attrs={'class': 'tosdr-points'}\n",
    "    ).find('li').text\n",
    "    terms.append([mytitle, myrating, myreason])"
   ]
  },
  {
   "cell_type": "code",
   "execution_count": 99,
   "metadata": {},
   "outputs": [
    {
     "data": {
      "text/plain": [
       "[['Google',\n",
       "  'Class C',\n",
       "  '-\\xa0Google keeps your searches and other identifiable user information for an undefined period of time'],\n",
       " ['YouTube',\n",
       "  'Class D',\n",
       "  '-\\xa0Terms may be changed any time at their discretion, without notice to the user'],\n",
       " ['GitHub', 'Class B', \"+\\xa0You don't grant any copyright license to github\"],\n",
       " ['SoundCloud', 'Class B', '+\\xa0You stay in control of your copyright'],\n",
       " ['DuckDuckGo', 'Class A', '+\\xa0No Tracking'],\n",
       " ['500px', 'Class D', '-\\xa0Waiver of legal actions'],\n",
       " ['lastpass',\n",
       "  'Class B',\n",
       "  '+\\xa0Personal information only stored when needed for a service'],\n",
       " ['Facebook',\n",
       "  'No Class Yet',\n",
       "  '-\\xa0Very broad copyright license on your content'],\n",
       " ['Wikipedia',\n",
       "  'No Class Yet',\n",
       "  '+\\xa0You publish your contributions under free licenses'],\n",
       " ['Yahoo!',\n",
       "  'No Class Yet',\n",
       "  \"+\\xa0Yahoo's copyright license for photos, graphics, audio and video limited for purpose\"],\n",
       " ['Amazon',\n",
       "  'No Class Yet',\n",
       "  '-\\xa0Terms may be changed any time at their discretion, without notice to the user'],\n",
       " ['twitter',\n",
       "  'No Class Yet',\n",
       "  '+\\xa0Twitter deletes tracking data in 10 days and offers an opt-out'],\n",
       " ['Instagram',\n",
       "  'No Class Yet',\n",
       "  '-\\xa0Very broad copyright license on your content'],\n",
       " ['netflix',\n",
       "  'No Class Yet',\n",
       "  '-\\xa0Terms may be changed any time at their discretion, without notice to the user'],\n",
       " ['imgur', 'No Class Yet', '-\\xa0Imgur may collect your device fingerprint.'],\n",
       " ['Microsoft Services',\n",
       "  'No Class Yet',\n",
       "  '-\\xa0Terms may be changed any time at their discretion, without notice to the user'],\n",
       " ['Microsoft Store',\n",
       "  'No Class Yet',\n",
       "  '-\\xa0Terms may be changed any time at their discretion, without notice to the user'],\n",
       " ['Tumblr',\n",
       "  'No Class Yet',\n",
       "  '+\\xa0Tumblr provides access to previous TOS and privacy policy'],\n",
       " ['Wordpress.com',\n",
       "  'No Class Yet',\n",
       "  '+\\xa0Limited copyright license to Wordpress.com including for promotion'],\n",
       " ['Apple',\n",
       "  'No Class Yet',\n",
       "  '-\\xa0Terms may be changed any time at their discretion, without notice to the user'],\n",
       " ['WhatsApp',\n",
       "  'No Class Yet',\n",
       "  '-\\xa0Terms may be changed any time at their discretion, without notice to the user'],\n",
       " ['blogspot',\n",
       "  'No Class Yet',\n",
       "  '-\\xa0Blogspot may collect your device fingerprint.'],\n",
       " ['Dropbox',\n",
       "  'No Class Yet',\n",
       "  '⋅\\xa0Terms may be changed at any time, but you will be notified.'],\n",
       " ['bbc', 'No Class Yet', '-\\xa0BBC may collect your device fingerprint.'],\n",
       " ['cnn', 'No Class Yet', '-\\xa0CNN may collect your device fingerprint.'],\n",
       " ['Spotify',\n",
       "  'No Class Yet',\n",
       "  '-\\xa0You grant perpetual license to anything you publish'],\n",
       " ['quora',\n",
       "  'No Class Yet',\n",
       "  '-\\xa0Quora collects all data you input and data of your device'],\n",
       " ['cnet', 'No Class Yet', '-\\xa0CNet may collect your device fingerprint.'],\n",
       " ['Steam',\n",
       "  'No Class Yet',\n",
       "  '-\\xa0Defend and indemnify Valve. Survives termination of the agreement.'],\n",
       " ['foxnews',\n",
       "  'No Class Yet',\n",
       "  '-\\xa0Fox News may collect your device fingerprint.'],\n",
       " ['Flickr',\n",
       "  'No Class Yet',\n",
       "  \"+\\xa0Yahoo's copyright license for photos, graphics, audio and video limited for purpose\"],\n",
       " ['Skype', 'No Class Yet', '×\\xa0You cannot delete your account'],\n",
       " ['Apple iCloud',\n",
       "  'No Class Yet',\n",
       "  '×\\xa0They can delete any of your data (files, music, messages, etc.) at any time and without notice'],\n",
       " ['Evernote', 'No Class Yet', '×\\xa0You cannot delete your account'],\n",
       " ['dictionary',\n",
       "  'No Class Yet',\n",
       "  '-\\xa0Dictionary.com may collect your device fingerprint.'],\n",
       " ['allrecipes',\n",
       "  'No Class Yet',\n",
       "  '-\\xa0Terms may be changed any time at their discretion, without notice to the user'],\n",
       " ['coursera',\n",
       "  'No Class Yet',\n",
       "  '-\\xa0Coursera can change Terms of Service without notice and with immediate effect.'],\n",
       " ['Disqus',\n",
       "  'No Class Yet',\n",
       "  '-\\xa0Terms may be changed any time at their discretion, without notice to the user'],\n",
       " ['Grammarly',\n",
       "  'No Class Yet',\n",
       "  '-\\xa0No promise to inform about government requests'],\n",
       " ['bitly', 'No Class Yet', '×\\xa0You cannot delete your account'],\n",
       " ['World of Warcraft', 'No Class Yet', '×\\xa0You cannot delete your account'],\n",
       " ['envato',\n",
       "  'No Class Yet',\n",
       "  '⋅\\xa0Terms may be changed at any time, but you will be notified.'],\n",
       " ['RuneScape', 'No Class Yet', '×\\xa0You cannot delete your account'],\n",
       " ['XING', 'No Class Yet', '-\\xa0No pseudonym allowed'],\n",
       " ['mint',\n",
       "  'No Class Yet',\n",
       "  '-\\xa0Mint.com may change their terms at any time without pro-active notice'],\n",
       " ['IFTTT',\n",
       "  'No Class Yet',\n",
       "  '-\\xa0Terms may be changed any time at their discretion, without notice to the user'],\n",
       " ['Zoosk', 'No Class Yet', '×\\xa0You cannot delete your account'],\n",
       " ['Gravatar', 'No Class Yet', '×\\xa0No right to leave the service'],\n",
       " ['Nabble',\n",
       "  'No Class Yet',\n",
       "  '-\\xa0Terms may be changed any time at their discretion, without notice to the user'],\n",
       " ['jagex',\n",
       "  'No Class Yet',\n",
       "  \"+\\xa0For paying users, TOS and Privacy Policy changes don't apply until the next renewal date\"],\n",
       " ['packagetrackr',\n",
       "  'No Class Yet',\n",
       "  '-\\xa0Terms may be changed any time at their discretion, without notice to the user'],\n",
       " ['Habbo', 'No Class Yet', '×\\xa0You cannot delete your account'],\n",
       " ['phpBB', 'No Class Yet', '×\\xa0You cannot delete your account'],\n",
       " ['OLX', 'No Class Yet', '×\\xa0You cannot delete your account'],\n",
       " ['Twitpic', 'No Class Yet', '×\\xa0Twitpic takes credit for your content'],\n",
       " ['Sonic.net', 'No Class Yet', '+\\xa0They delete user logs after 2 weeks'],\n",
       " ['Hypster', 'No Class Yet', '×\\xa0You cannot delete your account'],\n",
       " ['Flattr', 'No Class Yet', '⋅\\xa0Age limit of 18'],\n",
       " ['vBulletin', 'No Class Yet', '×\\xa0You cannot delete your account'],\n",
       " ['Informe',\n",
       "  'No Class Yet',\n",
       "  '-\\xa0Terms may be changed any time at their discretion, without notice to the user'],\n",
       " ['couchsurfing',\n",
       "  'No Class Yet',\n",
       "  '-\\xa0Terms may be changed any time at their discretion, without notice to the user'],\n",
       " ['Rapidshare', 'No Class Yet', '×\\xa0You cannot delete your account'],\n",
       " ['Cloudant',\n",
       "  'Class B',\n",
       "  \"+\\xa0You don't grant any copyright license to Cloudant\"],\n",
       " ['eBuddy', 'No Class Yet', '×\\xa0You cannot delete your account'],\n",
       " ['identi.ca', 'No Class Yet', '+\\xa0Content published under a free license'],\n",
       " ['Kolab Now',\n",
       "  'Class A',\n",
       "  '+\\xa0Developed features are made available under a Free Software license'],\n",
       " ['OwnCube',\n",
       "  'No Class Yet',\n",
       "  '-\\xa0Terms may be changed any time at their discretion, without notice to the user'],\n",
       " ['SeenThis', 'Class A', '+\\xa0You are free to choose your copyright license'],\n",
       " ['Delicious',\n",
       "  'Class D',\n",
       "  '-\\xa0Very broad copyright license on your content, includes right for Delicious to distribute through any media'],\n",
       " ['Xfire', 'No Class Yet', '×\\xa0You cannot delete your account'],\n",
       " ['Freeforums',\n",
       "  'No Class Yet',\n",
       "  '-\\xa0Terms may be changed any time at their discretion, without notice to the user'],\n",
       " ['Wordfeud', 'No Class Yet', '×\\xa0You cannot delete your account'],\n",
       " ['videoBB', 'No Class Yet', '×\\xa0You cannot delete your account'],\n",
       " ['BearShare', 'No Class Yet', '×\\xa0You cannot delete your account'],\n",
       " ['App.net',\n",
       "  'No Class Yet',\n",
       "  '-\\xa0Changes can happen at any time and sometimes without notice.'],\n",
       " ['Kippt',\n",
       "  'No Class Yet',\n",
       "  '-\\xa0Kippt may change their privacy policy without prior notice']]"
      ]
     },
     "execution_count": 99,
     "metadata": {},
     "output_type": "execute_result"
    }
   ],
   "source": [
    "terms"
   ]
  },
  {
   "cell_type": "code",
   "execution_count": 109,
   "metadata": {},
   "outputs": [],
   "source": [
    "import csv"
   ]
  },
  {
   "cell_type": "code",
   "execution_count": 113,
   "metadata": {},
   "outputs": [],
   "source": [
    "with open('myterms.csv', 'w', newline='') as csvfile:\n",
    "    spamwriter = csv.writer(csvfile, delimiter=',',\n",
    "                            quotechar='\"', quoting=csv.QUOTE_MINIMAL)\n",
    "    spamwriter.writerows(terms)"
   ]
  },
  {
   "cell_type": "code",
   "execution_count": 116,
   "metadata": {},
   "outputs": [
    {
     "data": {
      "text/plain": [
       "<_io.TextIOWrapper name='myterms.csv' mode='w' encoding='UTF-8'>"
      ]
     },
     "execution_count": 116,
     "metadata": {},
     "output_type": "execute_result"
    }
   ],
   "source": [
    "csvfile"
   ]
  },
  {
   "cell_type": "code",
   "execution_count": null,
   "metadata": {},
   "outputs": [],
   "source": []
  }
 ],
 "metadata": {
  "kernelspec": {
   "display_name": "Python 3",
   "language": "python",
   "name": "python3"
  },
  "language_info": {
   "codemirror_mode": {
    "name": "ipython",
    "version": 3
   },
   "file_extension": ".py",
   "mimetype": "text/x-python",
   "name": "python",
   "nbconvert_exporter": "python",
   "pygments_lexer": "ipython3",
   "version": "3.6.4"
  }
 },
 "nbformat": 4,
 "nbformat_minor": 2
}
